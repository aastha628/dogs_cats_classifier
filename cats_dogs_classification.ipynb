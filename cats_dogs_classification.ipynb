{
 "cells": [
  {
   "cell_type": "code",
   "execution_count": 1,
   "metadata": {},
   "outputs": [],
   "source": [
    "import tensorflow as tf\n",
    "import numpy as np\n",
    "import pandas as pd\n",
    "import matplotlib.pyplot as plt\n",
    "import matplotlib as mpl\n",
    "from tensorflow import keras"
   ]
  },
  {
   "cell_type": "code",
   "execution_count": 2,
   "metadata": {},
   "outputs": [],
   "source": [
    "train_dir=r\"cats_and_dogs_small\\train\"\n",
    "test_dir=r\"cats_and_dogs_small\\test\"\n",
    "validation_dir=r\"cats_and_dogs_small\\validation\""
   ]
  },
  {
   "cell_type": "code",
   "execution_count": 3,
   "metadata": {},
   "outputs": [],
   "source": [
    "from tensorflow.keras.preprocessing.image import ImageDataGenerator"
   ]
  },
  {
   "cell_type": "code",
   "execution_count": 4,
   "metadata": {},
   "outputs": [
    {
     "name": "stdout",
     "output_type": "stream",
     "text": [
      "Found 2000 images belonging to 2 classes.\n",
      "Found 1000 images belonging to 2 classes.\n"
     ]
    }
   ],
   "source": [
    "train_datagen=ImageDataGenerator(rescale=1./255)\n",
    "test_datagen=ImageDataGenerator(rescale=1./255)\n",
    "\n",
    "train_generator=train_datagen.flow_from_directory(\n",
    "train_dir, target_size=(150,150), batch_size=20, class_mode='binary')\n",
    "\n",
    "validation_generator=test_datagen.flow_from_directory(\n",
    "validation_dir, target_size=(150,150), batch_size=20, class_mode='binary')"
   ]
  },
  {
   "cell_type": "code",
   "execution_count": 5,
   "metadata": {},
   "outputs": [],
   "source": [
    "from tensorflow.keras import layers\n",
    "from tensorflow.keras import models"
   ]
  },
  {
   "cell_type": "code",
   "execution_count": 6,
   "metadata": {},
   "outputs": [],
   "source": [
    "model= models.Sequential()\n",
    "\n",
    "model.add(layers.Conv2D(32,(3,3), activation='relu',\n",
    "                        input_shape=(150,150,3)))\n",
    "model.add(layers.MaxPooling2D((2,2)))\n",
    "\n",
    "model.add(layers.Conv2D(64,(3,3), activation='relu',))\n",
    "model.add(layers.MaxPooling2D((2,2)))\n",
    "\n",
    "model.add(layers.Conv2D(128,(3,3), activation='relu',))\n",
    "model.add(layers.MaxPooling2D((2,2)))\n",
    "\n",
    "model.add(layers.Conv2D(64,(3,3), activation='relu',))\n",
    "model.add(layers.MaxPooling2D((2,2)))\n",
    "\n",
    "model.add(layers.Flatten())\n",
    "\n",
    "model.add(layers.Dense(512,activation='relu'))\n",
    "\n",
    "model.add(layers.Dense(1,activation='sigmoid'))\n"
   ]
  },
  {
   "cell_type": "code",
   "execution_count": 7,
   "metadata": {},
   "outputs": [
    {
     "name": "stdout",
     "output_type": "stream",
     "text": [
      "Model: \"sequential\"\n",
      "_________________________________________________________________\n",
      "Layer (type)                 Output Shape              Param #   \n",
      "=================================================================\n",
      "conv2d (Conv2D)              (None, 148, 148, 32)      896       \n",
      "_________________________________________________________________\n",
      "max_pooling2d (MaxPooling2D) (None, 74, 74, 32)        0         \n",
      "_________________________________________________________________\n",
      "conv2d_1 (Conv2D)            (None, 72, 72, 64)        18496     \n",
      "_________________________________________________________________\n",
      "max_pooling2d_1 (MaxPooling2 (None, 36, 36, 64)        0         \n",
      "_________________________________________________________________\n",
      "conv2d_2 (Conv2D)            (None, 34, 34, 128)       73856     \n",
      "_________________________________________________________________\n",
      "max_pooling2d_2 (MaxPooling2 (None, 17, 17, 128)       0         \n",
      "_________________________________________________________________\n",
      "conv2d_3 (Conv2D)            (None, 15, 15, 64)        73792     \n",
      "_________________________________________________________________\n",
      "max_pooling2d_3 (MaxPooling2 (None, 7, 7, 64)          0         \n",
      "_________________________________________________________________\n",
      "flatten (Flatten)            (None, 3136)              0         \n",
      "_________________________________________________________________\n",
      "dense (Dense)                (None, 512)               1606144   \n",
      "_________________________________________________________________\n",
      "dense_1 (Dense)              (None, 1)                 513       \n",
      "=================================================================\n",
      "Total params: 1,773,697\n",
      "Trainable params: 1,773,697\n",
      "Non-trainable params: 0\n",
      "_________________________________________________________________\n"
     ]
    }
   ],
   "source": [
    "model.summary()"
   ]
  },
  {
   "cell_type": "code",
   "execution_count": 8,
   "metadata": {},
   "outputs": [],
   "source": [
    "from tensorflow.keras import optimizers\n",
    "\n",
    "model.compile(loss='binary_crossentropy',\n",
    "             optimizer=optimizers.RMSprop(lr=1e-4),\n",
    "             metrics=['acc'])\n"
   ]
  },
  {
   "cell_type": "code",
   "execution_count": 9,
   "metadata": {},
   "outputs": [
    {
     "name": "stdout",
     "output_type": "stream",
     "text": [
      "WARNING:tensorflow:From <ipython-input-9-15bcea8e7973>:5: Model.fit_generator (from tensorflow.python.keras.engine.training) is deprecated and will be removed in a future version.\n",
      "Instructions for updating:\n",
      "Please use Model.fit, which supports generators.\n",
      "Epoch 1/20\n",
      "100/100 [==============================] - 79s 790ms/step - loss: 0.6921 - acc: 0.5295 - val_loss: 0.6776 - val_acc: 0.5950\n",
      "Epoch 2/20\n",
      "100/100 [==============================] - 73s 734ms/step - loss: 0.6634 - acc: 0.6090 - val_loss: 0.6635 - val_acc: 0.5900\n",
      "Epoch 3/20\n",
      "100/100 [==============================] - 77s 774ms/step - loss: 0.6389 - acc: 0.6365 - val_loss: 0.6415 - val_acc: 0.6130\n",
      "Epoch 4/20\n",
      "100/100 [==============================] - 85s 849ms/step - loss: 0.6066 - acc: 0.6730 - val_loss: 0.6279 - val_acc: 0.6410\n",
      "Epoch 5/20\n",
      "100/100 [==============================] - 84s 843ms/step - loss: 0.5724 - acc: 0.7080 - val_loss: 0.5925 - val_acc: 0.6790\n",
      "Epoch 6/20\n",
      "100/100 [==============================] - 73s 734ms/step - loss: 0.5297 - acc: 0.7270 - val_loss: 0.6148 - val_acc: 0.6690\n",
      "Epoch 7/20\n",
      "100/100 [==============================] - 82s 815ms/step - loss: 0.5047 - acc: 0.7580 - val_loss: 0.5877 - val_acc: 0.6860\n",
      "Epoch 8/20\n",
      "100/100 [==============================] - 91s 911ms/step - loss: 0.4744 - acc: 0.7720 - val_loss: 0.5931 - val_acc: 0.6990\n",
      "Epoch 9/20\n",
      "100/100 [==============================] - 91s 907ms/step - loss: 0.4472 - acc: 0.7950 - val_loss: 0.6197 - val_acc: 0.6960\n",
      "Epoch 10/20\n",
      "100/100 [==============================] - 92s 919ms/step - loss: 0.4164 - acc: 0.8020 - val_loss: 0.7065 - val_acc: 0.6590\n",
      "Epoch 11/20\n",
      "100/100 [==============================] - 91s 913ms/step - loss: 0.3934 - acc: 0.8300 - val_loss: 0.6036 - val_acc: 0.7070\n",
      "Epoch 12/20\n",
      "100/100 [==============================] - 92s 918ms/step - loss: 0.3785 - acc: 0.8320 - val_loss: 0.5592 - val_acc: 0.7160\n",
      "Epoch 13/20\n",
      "100/100 [==============================] - 91s 912ms/step - loss: 0.3451 - acc: 0.8470 - val_loss: 0.5553 - val_acc: 0.7200\n",
      "Epoch 14/20\n",
      "100/100 [==============================] - 93s 933ms/step - loss: 0.3296 - acc: 0.8530 - val_loss: 0.5577 - val_acc: 0.7350\n",
      "Epoch 15/20\n",
      "100/100 [==============================] - 93s 925ms/step - loss: 0.3068 - acc: 0.8755 - val_loss: 0.5823 - val_acc: 0.7310\n",
      "Epoch 16/20\n",
      "100/100 [==============================] - 93s 932ms/step - loss: 0.2830 - acc: 0.8805 - val_loss: 0.6080 - val_acc: 0.7180\n",
      "Epoch 17/20\n",
      "100/100 [==============================] - 93s 934ms/step - loss: 0.2596 - acc: 0.8875 - val_loss: 0.6176 - val_acc: 0.7270\n",
      "Epoch 18/20\n",
      "100/100 [==============================] - 94s 941ms/step - loss: 0.2376 - acc: 0.9115 - val_loss: 0.6242 - val_acc: 0.7170\n",
      "Epoch 19/20\n",
      "100/100 [==============================] - 95s 945ms/step - loss: 0.2182 - acc: 0.9145 - val_loss: 0.6718 - val_acc: 0.7230\n",
      "Epoch 20/20\n",
      "100/100 [==============================] - 90s 900ms/step - loss: 0.1999 - acc: 0.9240 - val_loss: 0.6370 - val_acc: 0.7220\n"
     ]
    }
   ],
   "source": [
    "history= model.fit_generator(train_generator,\n",
    "                            steps_per_epoch=100,\n",
    "                            epochs=20,\n",
    "                            validation_data=validation_generator,\n",
    "                            validation_steps=50)"
   ]
  },
  {
   "cell_type": "code",
   "execution_count": 10,
   "metadata": {},
   "outputs": [],
   "source": [
    "model.save(\"cat_dog_classifier.h5\")"
   ]
  },
  {
   "cell_type": "code",
   "execution_count": 11,
   "metadata": {},
   "outputs": [],
   "source": [
    "del model"
   ]
  },
  {
   "cell_type": "code",
   "execution_count": null,
   "metadata": {},
   "outputs": [],
   "source": []
  }
 ],
 "metadata": {
  "kernelspec": {
   "display_name": "Python 3",
   "language": "python",
   "name": "python3"
  },
  "language_info": {
   "codemirror_mode": {
    "name": "ipython",
    "version": 3
   },
   "file_extension": ".py",
   "mimetype": "text/x-python",
   "name": "python",
   "nbconvert_exporter": "python",
   "pygments_lexer": "ipython3",
   "version": "3.7.0"
  }
 },
 "nbformat": 4,
 "nbformat_minor": 4
}
